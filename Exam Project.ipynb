{
 "cells": [
  {
   "cell_type": "code",
   "execution_count": 1,
   "id": "ae87611a",
   "metadata": {},
   "outputs": [],
   "source": [
    "#!pip install xlrd>=2.0.1\n",
    "# import pandas for structuring the data\n",
    "import pandas as pd\n",
    "\n",
    "# import numpy for numerical analysis\n",
    "import numpy as np\n",
    "\n",
    "# import libs for diagrams inline with the text\n",
    "import matplotlib.pyplot as plt\n",
    "%matplotlib inline\n",
    "import seaborn as sns\n",
    "\n",
    "# other utilities\n",
    "from sklearn import datasets, preprocessing, metrics\n",
    "from scipy.stats import shapiro\n",
    "from sklearn.decomposition import PCA"
   ]
  },
  {
   "cell_type": "code",
   "execution_count": 2,
   "id": "c7ddfcc9",
   "metadata": {},
   "outputs": [],
   "source": [
    "co2mt_df=pd.read_csv(r'C:\\Users\\freed\\Desktop\\DAT\\DAT4\\BI\\exam project\\Data\\GCB2022v27_MtCO2_flat.csv', header=0)\n",
    "co2pc_df=pd.read_csv(r'C:\\Users\\freed\\Desktop\\DAT\\DAT4\\BI\\exam project\\Data\\GCB2022v27_percapita_flat.csv', header=0)"
   ]
  },
  {
   "cell_type": "code",
   "execution_count": 3,
   "id": "91ab7688",
   "metadata": {},
   "outputs": [
    {
     "data": {
      "text/plain": [
       "Country                object\n",
       "ISO 3166-1 alpha-3     object\n",
       "Year                    int64\n",
       "Total                 float64\n",
       "Coal                  float64\n",
       "Oil                   float64\n",
       "Gas                   float64\n",
       "Cement                float64\n",
       "Flaring               float64\n",
       "Other                 float64\n",
       "Per Capita            float64\n",
       "dtype: object"
      ]
     },
     "execution_count": 3,
     "metadata": {},
     "output_type": "execute_result"
    }
   ],
   "source": [
    "co2mt_df.dtypes"
   ]
  },
  {
   "cell_type": "code",
   "execution_count": 4,
   "id": "2d736d62",
   "metadata": {},
   "outputs": [
    {
     "data": {
      "text/plain": [
       "Country                object\n",
       "ISO 3166-1 alpha-3     object\n",
       "Year                    int64\n",
       "Total                 float64\n",
       "Coal                  float64\n",
       "Oil                   float64\n",
       "Gas                   float64\n",
       "Cement                float64\n",
       "Flaring               float64\n",
       "Other                 float64\n",
       "dtype: object"
      ]
     },
     "execution_count": 4,
     "metadata": {},
     "output_type": "execute_result"
    }
   ],
   "source": [
    "co2pc_df.dtypes"
   ]
  },
  {
   "cell_type": "code",
   "execution_count": null,
   "id": "e1c6d1f6",
   "metadata": {},
   "outputs": [],
   "source": []
  }
 ],
 "metadata": {
  "kernelspec": {
   "display_name": "Python 3 (ipykernel)",
   "language": "python",
   "name": "python3"
  },
  "language_info": {
   "codemirror_mode": {
    "name": "ipython",
    "version": 3
   },
   "file_extension": ".py",
   "mimetype": "text/x-python",
   "name": "python",
   "nbconvert_exporter": "python",
   "pygments_lexer": "ipython3",
   "version": "3.11.5"
  }
 },
 "nbformat": 4,
 "nbformat_minor": 5
}
